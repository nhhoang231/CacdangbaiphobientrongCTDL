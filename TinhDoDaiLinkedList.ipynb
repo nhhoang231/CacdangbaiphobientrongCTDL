{
  "nbformat": 4,
  "nbformat_minor": 0,
  "metadata": {
    "colab": {
      "name": "TinhDoDaiLinkedList.ipynb",
      "provenance": [],
      "collapsed_sections": [],
      "authorship_tag": "ABX9TyPNP5gu+W7gFoe1/DgjzaJj",
      "include_colab_link": true
    },
    "kernelspec": {
      "name": "python3",
      "display_name": "Python 3"
    }
  },
  "cells": [
    {
      "cell_type": "markdown",
      "metadata": {
        "id": "view-in-github",
        "colab_type": "text"
      },
      "source": [
        "<a href=\"https://colab.research.google.com/github/nhhoang231/CacdangbaiphobientrongCTDL/blob/main/TinhDoDaiLinkedList.ipynb\" target=\"_parent\"><img src=\"https://colab.research.google.com/assets/colab-badge.svg\" alt=\"Open In Colab\"/></a>"
      ]
    },
    {
      "cell_type": "markdown",
      "metadata": {
        "id": "jxuQUsgLsHRS"
      },
      "source": [
        "Tính độ dài của Linkedlist bằng cách sử dụng vòng lặp "
      ]
    },
    {
      "cell_type": "code",
      "metadata": {
        "colab": {
          "base_uri": "https://localhost:8080/"
        },
        "id": "Xj3UL9186vyt",
        "outputId": "01e7f10b-8898-4b39-91c9-ec5678ec3afc"
      },
      "source": [
        "class Node:\n",
        "  def __init__(self,data=None):\n",
        "    self.data = data\n",
        "    self.next = None\n",
        "\n",
        "class LinkedList:\n",
        "  def __init__(self):\n",
        "    self.head = None\n",
        "\n",
        "  def Push(self, new_data):\n",
        "    new_node = Node(new_data)\n",
        "    new_node.next = self.head\n",
        "    self.head = new_node\n",
        "  def getCount(self):\n",
        "    temp = self.head\n",
        "    count = 0 \n",
        "    while (temp):\n",
        "      count += 1\n",
        "      temp = temp.next\n",
        "    return count \n",
        "\n",
        "if __name__ == '__main__':\n",
        "  llist = LinkedList()\n",
        "  llist.Push(1)\n",
        "  llist.Push(3)\n",
        "  llist.Push(2)\n",
        "  llist.Push(1)\n",
        "  print(\"Count of nodes is :\", llist.getCount())"
      ],
      "execution_count": 14,
      "outputs": [
        {
          "output_type": "stream",
          "text": [
            "Count of nodes is : 4\n"
          ],
          "name": "stdout"
        }
      ]
    },
    {
      "cell_type": "markdown",
      "metadata": {
        "id": "VrtxcK94sEnd"
      },
      "source": [
        "Tính độ dài Linkedlíst bằng cách sử dụng đệ quy "
      ]
    },
    {
      "cell_type": "code",
      "metadata": {
        "colab": {
          "base_uri": "https://localhost:8080/"
        },
        "id": "zzf8CRS4rwaH",
        "outputId": "f7f229eb-0c9d-4682-afdd-f4102e05bc3c"
      },
      "source": [
        "class Node:\n",
        "  def __init__(self,data=None):\n",
        "    self.data = data\n",
        "    self.next = None\n",
        "\n",
        "class LinkedList:\n",
        "  def __init__(self):\n",
        "    self.head = None\n",
        "\n",
        "  def Push(self, new_data):\n",
        "    new_node = Node(new_data)\n",
        "    new_node.next = self.head\n",
        "    self.head = new_node\n",
        "  def getCountRec(self,node):\n",
        "    if (not node):\n",
        "      return 0\n",
        "    else:\n",
        "      return 1 + self.getCountRec(node.next)\n",
        "  def getCount(self):\n",
        "    return self.getCountRec(self.head)\n",
        "\n",
        "if __name__ == '__main__':\n",
        "  llist = LinkedList()\n",
        "  llist.Push(1)\n",
        "  llist.Push(3)\n",
        "  llist.Push(2)\n",
        "  llist.Push(1)\n",
        "  print(\"Count of nodes is :\", llist.getCount())"
      ],
      "execution_count": 17,
      "outputs": [
        {
          "output_type": "stream",
          "text": [
            "Count of nodes is : 4\n"
          ],
          "name": "stdout"
        }
      ]
    },
    {
      "cell_type": "code",
      "metadata": {
        "id": "fmMxGvKnt9zA"
      },
      "source": [
        ""
      ],
      "execution_count": null,
      "outputs": []
    },
    {
      "cell_type": "code",
      "metadata": {
        "id": "5lJetORDt7y9"
      },
      "source": [
        ""
      ],
      "execution_count": null,
      "outputs": []
    },
    {
      "cell_type": "code",
      "metadata": {
        "id": "Vz50hPLzt6CW"
      },
      "source": [
        ""
      ],
      "execution_count": null,
      "outputs": []
    }
  ]
}